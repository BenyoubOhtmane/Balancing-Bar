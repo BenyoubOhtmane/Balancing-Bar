{
 "cells": [
  {
   "cell_type": "code",
   "execution_count": 2,
   "metadata": {},
   "outputs": [],
   "source": [
    "import gym\n",
    "import random\n",
    "import numpy as np\n",
    "from keras.models     import Sequential\n",
    "from keras.layers     import Dense\n",
    "from keras.optimizers import Adam"
   ]
  },
  {
   "cell_type": "code",
   "execution_count": 3,
   "metadata": {},
   "outputs": [],
   "source": [
    "env = gym.make('CartPole-v1')\n",
    "env.reset()\n",
    "goal_steps = 500\n",
    "score_requirement = 60\n",
    "intial_games = 10000"
   ]
  },
  {
   "cell_type": "code",
   "execution_count": 4,
   "metadata": {},
   "outputs": [],
   "source": [
    "def model_data_preparation():\n",
    "    training_data = []\n",
    "    accepted_scores = []\n",
    "    for game_index in range(intial_games):\n",
    "        score = 0\n",
    "        game_memory = []\n",
    "        previous_observation = []\n",
    "        for step_index in range(goal_steps):\n",
    "            action = random.randrange(0, 2)\n",
    "            observation, reward, done, info = env.step(action)\n",
    "            \n",
    "            if len(previous_observation) > 0:\n",
    "                game_memory.append([previous_observation, action])\n",
    "                \n",
    "            previous_observation = observation\n",
    "            score += reward\n",
    "            if done:\n",
    "                break\n",
    "            \n",
    "        if score >= score_requirement:\n",
    "            accepted_scores.append(score)\n",
    "            for data in game_memory:\n",
    "                if data[1] == 1:\n",
    "                    output = [0, 1]\n",
    "                elif data[1] == 0:\n",
    "                    output = [1, 0]\n",
    "                training_data.append([data[0], output])\n",
    "        \n",
    "        env.reset()\n",
    "\n",
    "    print(accepted_scores)\n",
    "    \n",
    "    return training_data"
   ]
  },
  {
   "cell_type": "code",
   "execution_count": 6,
   "metadata": {},
   "outputs": [],
   "source": [
    "def build_model(input_size, output_size):\n",
    "    model = Sequential()\n",
    "    model.add(Dense(128, input_dim=input_size, activation='relu'))\n",
    "    model.add(Dense(52, activation='relu'))\n",
    "    model.add(Dense(output_size, activation='linear'))\n",
    "    model.compile(loss='mse', optimizer=Adam())\n",
    "    return model"
   ]
  },
  {
   "cell_type": "code",
   "execution_count": 7,
   "metadata": {},
   "outputs": [],
   "source": [
    "def train_model(training_data):\n",
    "    X = np.array([i[0] for i in training_data]).reshape(-1, len(training_data[0][0]))\n",
    "    y = np.array([i[1] for i in training_data]).reshape(-1, len(training_data[0][1]))\n",
    "    model = build_model(input_size=len(X[0]), output_size=len(y[0]))\n",
    "    \n",
    "    model.fit(X, y, epochs=10)\n",
    "    return model"
   ]
  },
  {
   "cell_type": "code",
   "execution_count": 9,
   "metadata": {},
   "outputs": [
    {
     "name": "stdout",
     "output_type": "stream",
     "text": [
      "[92.0, 60.0, 71.0, 67.0, 84.0, 61.0, 85.0, 77.0, 71.0, 62.0, 90.0, 66.0, 64.0, 97.0, 64.0, 71.0, 85.0, 62.0, 60.0, 81.0, 60.0, 64.0, 74.0, 107.0, 89.0, 63.0, 79.0, 60.0, 93.0, 65.0, 87.0, 71.0, 81.0, 62.0, 66.0, 65.0, 81.0, 75.0, 62.0, 72.0, 74.0, 63.0, 79.0, 65.0, 61.0, 69.0, 75.0, 69.0, 60.0, 75.0, 67.0, 69.0, 76.0, 61.0, 79.0, 70.0, 68.0, 75.0, 80.0, 67.0, 63.0, 61.0, 83.0, 60.0, 64.0, 65.0, 94.0, 73.0, 67.0, 70.0, 78.0, 64.0, 66.0, 68.0, 66.0, 67.0, 69.0, 67.0, 68.0, 94.0, 70.0, 72.0, 64.0, 66.0, 94.0, 60.0, 64.0, 61.0, 62.0, 60.0, 71.0, 60.0, 78.0, 89.0, 60.0, 69.0, 71.0, 86.0, 94.0, 79.0, 67.0, 60.0, 61.0, 63.0, 65.0, 66.0, 83.0, 65.0, 91.0, 62.0, 79.0, 67.0, 103.0, 62.0, 63.0, 88.0, 76.0, 74.0, 68.0, 60.0, 70.0, 76.0, 77.0, 72.0, 63.0, 62.0, 64.0, 60.0, 121.0, 85.0, 66.0, 105.0, 63.0, 87.0, 67.0, 62.0, 80.0, 64.0, 65.0, 77.0, 68.0, 109.0, 63.0, 62.0, 75.0, 85.0, 78.0, 82.0, 71.0, 78.0, 81.0, 95.0, 60.0, 66.0, 81.0, 115.0, 62.0, 62.0, 66.0, 66.0, 74.0, 77.0, 60.0, 95.0, 68.0]\n",
      "Epoch 1/10\n",
      "370/370 [==============================] - 0s 896us/step - loss: 0.2467\n",
      "Epoch 2/10\n",
      "370/370 [==============================] - 0s 836us/step - loss: 0.2336\n",
      "Epoch 3/10\n",
      "370/370 [==============================] - 0s 808us/step - loss: 0.2325\n",
      "Epoch 4/10\n",
      "370/370 [==============================] - 0s 820us/step - loss: 0.2318\n",
      "Epoch 5/10\n",
      "370/370 [==============================] - 0s 827us/step - loss: 0.2314\n",
      "Epoch 6/10\n",
      "370/370 [==============================] - 0s 829us/step - loss: 0.2310\n",
      "Epoch 7/10\n",
      "370/370 [==============================] - 0s 831us/step - loss: 0.2312\n",
      "Epoch 8/10\n",
      "370/370 [==============================] - 0s 889us/step - loss: 0.2305\n",
      "Epoch 9/10\n",
      "370/370 [==============================] - 0s 1ms/step - loss: 0.2306\n",
      "Epoch 10/10\n",
      "370/370 [==============================] - 0s 902us/step - loss: 0.2304\n"
     ]
    }
   ],
   "source": [
    "training_data=model_data_preparation()\n",
    "trained_model = train_model(training_data)"
   ]
  },
  {
   "cell_type": "code",
   "execution_count": null,
   "metadata": {},
   "outputs": [],
   "source": [
    "scores = []\n",
    "choices = []\n",
    "for each_game in range(100):\n",
    "    score = 0\n",
    "    prev_obs = []\n",
    "    for step_index in range(goal_steps):\n",
    "        env.render()\n",
    "        if len(prev_obs)==0:\n",
    "            action = random.randrange(0,2)\n",
    "        else:\n",
    "            action = np.argmax(trained_model.predict(prev_obs.reshape(-1, len(prev_obs)))[0])\n",
    "        choices.append(action)\n",
    "        new_observation, reward, done, info = env.step(action)\n",
    "        prev_obs = new_observation\n",
    "        score+=reward\n",
    "        if done:\n",
    "            break\n",
    "\n",
    "    env.reset()\n",
    "    scores.append(score)\n",
    "\n",
    "print(scores)\n",
    "print('Average Score:', sum(scores)/len(scores))\n",
    "print('choice 1:{}  choice 0:{}'.format(choices.count(1)/len(choices),choices.count(0)/len(choices)))"
   ]
  }
 ],
 "metadata": {
  "kernelspec": {
   "display_name": "Python 3",
   "language": "python",
   "name": "python3"
  },
  "language_info": {
   "codemirror_mode": {
    "name": "ipython",
    "version": 3
   },
   "file_extension": ".py",
   "mimetype": "text/x-python",
   "name": "python",
   "nbconvert_exporter": "python",
   "pygments_lexer": "ipython3",
   "version": "3.8.3"
  }
 },
 "nbformat": 4,
 "nbformat_minor": 4
}
